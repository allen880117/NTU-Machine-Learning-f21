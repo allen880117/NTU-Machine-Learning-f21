{
 "cells": [
  {
   "cell_type": "code",
   "execution_count": 283,
   "metadata": {},
   "outputs": [],
   "source": [
    "import pandas as pd\n",
    "import numpy as np\n",
    "import itertools\n",
    "from liblinear import liblinearutil as ll"
   ]
  },
  {
   "cell_type": "code",
   "execution_count": 284,
   "metadata": {},
   "outputs": [],
   "source": [
    "train_url = \"http://www.csie.ntu.edu.tw/~htlin/course/ml21fall/hw4/hw4_train.dat\"\n",
    "test_url = \"http://www.csie.ntu.edu.tw/~htlin/course/ml21fall/hw4/hw4_test.dat\"\n",
    "\n",
    "train = pd.read_csv(train_url, header=None, sep=\" \")\n",
    "test = pd.read_csv(test_url, header=None, sep=\" \")\n",
    "\n",
    "train_y = train[6].to_numpy()\n",
    "test_y = test[6].to_numpy()\n",
    "train_x = train.drop(6, axis=1).to_numpy()\n",
    "test_x = test.drop(6, axis=1).to_numpy()"
   ]
  },
  {
   "cell_type": "code",
   "execution_count": 285,
   "metadata": {},
   "outputs": [],
   "source": [
    "def third_poly(x):\n",
    "    ret = [1]\n",
    "    for q in [1, 2, 3]:\n",
    "        for idx_list in itertools.combinations_with_replacement([i for i in range(len(x))], q):\n",
    "            tmp = 1\n",
    "            for idx in idx_list:\n",
    "                tmp *= x[idx]\n",
    "            ret.append(tmp)\n",
    "    return ret"
   ]
  },
  {
   "cell_type": "code",
   "execution_count": 286,
   "metadata": {},
   "outputs": [],
   "source": [
    "def transform(all_x, func):\n",
    "    ret = []\n",
    "    for x in all_x:\n",
    "        ret.append(func(x))\n",
    "    return np.array(ret)"
   ]
  },
  {
   "cell_type": "code",
   "execution_count": 287,
   "metadata": {},
   "outputs": [],
   "source": [
    "tf_train_x = transform(train_x, third_poly)\n",
    "tf_test_x = transform(test_x, third_poly)"
   ]
  },
  {
   "cell_type": "code",
   "execution_count": 288,
   "metadata": {},
   "outputs": [],
   "source": [
    "def liblinear_data_format(x, y):\n",
    "    data = str(y) + \" \"\n",
    "    for i in range(x.shape[0]):\n",
    "        data += str(i+1)\n",
    "        data += \":\"\n",
    "        data += str(x[i])\n",
    "        data += \" \"\n",
    "    data += \"\\n\"\n",
    "    return data"
   ]
  },
  {
   "cell_type": "code",
   "execution_count": 289,
   "metadata": {},
   "outputs": [],
   "source": [
    "def write_data_format(x, y, name = None):\n",
    "    if (name == None):\n",
    "        return\n",
    "\n",
    "    with open(name, 'w') as file:\n",
    "        size = x.shape[0]\n",
    "        for i in range(size):\n",
    "            file.write(liblinear_data_format(x[i], y[i]))"
   ]
  },
  {
   "cell_type": "markdown",
   "metadata": {},
   "source": [
    "## Solve Problem Using LibLinear"
   ]
  },
  {
   "cell_type": "markdown",
   "metadata": {},
   "source": [
    "### Problem 12"
   ]
  },
  {
   "cell_type": "code",
   "execution_count": 290,
   "metadata": {},
   "outputs": [
    {
     "name": "stdout",
     "output_type": "stream",
     "text": [
      "log10 lambda = -4\tAccuracy = 87.375% (699/800) (classification)\n",
      "log10 lambda = -2\tAccuracy = 87.75% (702/800) (classification)\n",
      "log10 lambda = 0\tAccuracy = 92% (736/800) (classification)\n",
      "log10 lambda = 2\tAccuracy = 92.75% (742/800) (classification)\n",
      "log10 lambda = 4\tAccuracy = 83.5% (668/800) (classification)\n"
     ]
    }
   ],
   "source": [
    "def Problem12(train_y, train_x, test_y, test_x):\n",
    "      prob_train = ll.problem(train_y.tolist(), train_x.tolist())\n",
    "\n",
    "      # c = (1 / (2 * lambda))\n",
    "      for log_lam in [-4, -2, 0, 2, 4]:\n",
    "            print(\"log10 lambda =\",log_lam, end = \"\\t\")\n",
    "\n",
    "            c = 1 / (2 * 10**(log_lam))\n",
    "            m = ll.train(prob_train, '-s 0 -e 0.000001 -c '+str(c))\n",
    "            _, _, _ = ll.predict(test_y.tolist(), test_x.tolist(), m)\n",
    "\n",
    "Problem12(train_y, tf_train_x, test_y, tf_test_x)"
   ]
  },
  {
   "cell_type": "markdown",
   "metadata": {},
   "source": [
    "### Problem 13"
   ]
  },
  {
   "cell_type": "code",
   "execution_count": 291,
   "metadata": {},
   "outputs": [
    {
     "name": "stdout",
     "output_type": "stream",
     "text": [
      "log10 lambda = -4\tAccuracy = 100% (200/200) (classification)\n",
      "log10 lambda = -2\tAccuracy = 100% (200/200) (classification)\n",
      "log10 lambda = 0\tAccuracy = 97.5% (195/200) (classification)\n",
      "log10 lambda = 2\tAccuracy = 95% (190/200) (classification)\n",
      "log10 lambda = 4\tAccuracy = 82% (164/200) (classification)\n"
     ]
    }
   ],
   "source": [
    "def Problem13(train_y, train_x):\n",
    "      prob_train = ll.problem(train_y.tolist(), train_x.tolist())\n",
    "\n",
    "      # c = (1 / (2 * lambda))\n",
    "      for log_lam in [-4, -2, 0, 2, 4]:\n",
    "            print(\"log10 lambda =\",log_lam, end = \"\\t\")\n",
    "\n",
    "            c = 1 / (2 * 10**(log_lam))\n",
    "            m = ll.train(prob_train, '-s 0 -e 0.000001 -c '+str(c))\n",
    "            _, _, _ = ll.predict(train_y.tolist(), train_x.tolist(), m)\n",
    "\n",
    "Problem13(train_y, tf_train_x)"
   ]
  },
  {
   "cell_type": "markdown",
   "metadata": {},
   "source": [
    "### Problem 14"
   ]
  },
  {
   "cell_type": "code",
   "execution_count": 292,
   "metadata": {},
   "outputs": [
    {
     "name": "stdout",
     "output_type": "stream",
     "text": [
      "log10 lambda = -4\t+ Validation:\tAccuracy = 77.5% (62/80) (classification)\n",
      "log10 lambda = -2\t+ Validation:\tAccuracy = 80% (64/80) (classification)\n",
      "log10 lambda = 0\t+ Validation:\tAccuracy = 88.75% (71/80) (classification)\n",
      "log10 lambda = 2\t+ Validation:\tAccuracy = 93.75% (75/80) (classification)\n",
      "log10 lambda = 4\t+ Validation:\tAccuracy = 85% (68/80) (classification)\n",
      "\n",
      "best lam:  2\n",
      "+ Test:\tAccuracy = 92.5% (740/800) (classification)\n"
     ]
    }
   ],
   "source": [
    "def Problem14(train_y, train_x, test_y, test_x):\n",
    "    prob_train = ll.problem(train_y[0:120].tolist(), train_x[0:120].tolist())\n",
    "    valid_y = train_y[120:200].tolist()\n",
    "    valid_x = train_x[120:200].tolist()\n",
    "\n",
    "    best_model = None\n",
    "    best_acc = 0\n",
    "    best_lam = None\n",
    "\n",
    "    # c = (1 / (2 * lambda))\n",
    "    for log_lam in [-4, -2, 0, 2, 4]:\n",
    "        print(\"log10 lambda =\",log_lam, end = \"\\t\")\n",
    "\n",
    "        c = 1 / (2 * 10**(log_lam))\n",
    "        m = ll.train(prob_train, '-s 0 -e 0.000001 -c '+str(c))\n",
    "\n",
    "        print(\"+ Validation:\", end = \"\\t\")\n",
    "        _, acc, _ = ll.predict(valid_y, valid_x, m)\n",
    "\n",
    "        if (best_acc < acc[0]):\n",
    "            best_model = m\n",
    "            best_acc = acc[0]\n",
    "            best_lam = log_lam\n",
    "\n",
    "    print(\"\\nbest lam: \", best_lam)\n",
    "    print(\"+ Test:\", end = \"\\t\")\n",
    "    _, _, _ = ll.predict(test_y.tolist(), test_x.tolist(), best_model)\n",
    "\n",
    "    return best_lam\n",
    "\n",
    "best_lam = Problem14(train_y, tf_train_x, test_y, tf_test_x)"
   ]
  },
  {
   "cell_type": "code",
   "execution_count": 293,
   "metadata": {},
   "outputs": [
    {
     "name": "stdout",
     "output_type": "stream",
     "text": [
      "0/1 Eout =  0.07499999999999996\n"
     ]
    }
   ],
   "source": [
    "print(\"0/1 Eout = \", ( 1 - (740 / 800)))"
   ]
  },
  {
   "cell_type": "markdown",
   "metadata": {},
   "source": [
    "### Problem 15"
   ]
  },
  {
   "cell_type": "code",
   "execution_count": 294,
   "metadata": {},
   "outputs": [
    {
     "name": "stdout",
     "output_type": "stream",
     "text": [
      "log10 lambda = 2\tAccuracy = 92.75% (742/800) (classification)\n"
     ]
    }
   ],
   "source": [
    "def Problem15(train_y, train_x, test_y, test_x, log_lam):\n",
    "    prob_train = ll.problem(train_y.tolist(), train_x.tolist())\n",
    "\n",
    "    print(\"log10 lambda =\",log_lam, end = \"\\t\")\n",
    "\n",
    "    c = 1 / (2 * 10**(log_lam))\n",
    "    m = ll.train(prob_train, '-s 0 -e 0.000001 -c '+str(c))\n",
    "    _, _, _ = ll.predict(test_y.tolist(), test_x.tolist(), m)\n",
    "\n",
    "Problem15(train_y, tf_train_x, test_y, tf_test_x, best_lam)"
   ]
  },
  {
   "cell_type": "code",
   "execution_count": 295,
   "metadata": {},
   "outputs": [
    {
     "name": "stdout",
     "output_type": "stream",
     "text": [
      "0/1 Eout =  0.07250000000000001\n"
     ]
    }
   ],
   "source": [
    "print(\"0/1 Eout = \", ( 1 - (742 / 800)))"
   ]
  },
  {
   "cell_type": "markdown",
   "metadata": {},
   "source": [
    "### Problem 16"
   ]
  },
  {
   "cell_type": "code",
   "execution_count": 296,
   "metadata": {},
   "outputs": [
    {
     "name": "stdout",
     "output_type": "stream",
     "text": [
      "log10 lambda = -4\n",
      "+ Validation:\tAccuracy = 82.5% (33/40) (classification)\n",
      "+ Validation:\tAccuracy = 82.5% (33/40) (classification)\n",
      "+ Validation:\tAccuracy = 70% (28/40) (classification)\n",
      "+ Validation:\tAccuracy = 82.5% (33/40) (classification)\n",
      "+ Validation:\tAccuracy = 87.5% (35/40) (classification)\n",
      "log10 lambda = -2\n",
      "+ Validation:\tAccuracy = 82.5% (33/40) (classification)\n",
      "+ Validation:\tAccuracy = 82.5% (33/40) (classification)\n",
      "+ Validation:\tAccuracy = 75% (30/40) (classification)\n",
      "+ Validation:\tAccuracy = 85% (34/40) (classification)\n",
      "+ Validation:\tAccuracy = 90% (36/40) (classification)\n",
      "log10 lambda = 0\n",
      "+ Validation:\tAccuracy = 85% (34/40) (classification)\n",
      "+ Validation:\tAccuracy = 87.5% (35/40) (classification)\n",
      "+ Validation:\tAccuracy = 85% (34/40) (classification)\n",
      "+ Validation:\tAccuracy = 92.5% (37/40) (classification)\n",
      "+ Validation:\tAccuracy = 92.5% (37/40) (classification)\n",
      "log10 lambda = 2\n",
      "+ Validation:\tAccuracy = 90% (36/40) (classification)\n",
      "+ Validation:\tAccuracy = 90% (36/40) (classification)\n",
      "+ Validation:\tAccuracy = 87.5% (35/40) (classification)\n",
      "+ Validation:\tAccuracy = 97.5% (39/40) (classification)\n",
      "+ Validation:\tAccuracy = 95% (38/40) (classification)\n",
      "log10 lambda = 4\n",
      "+ Validation:\tAccuracy = 72.5% (29/40) (classification)\n",
      "+ Validation:\tAccuracy = 80% (32/40) (classification)\n",
      "+ Validation:\tAccuracy = 75% (30/40) (classification)\n",
      "+ Validation:\tAccuracy = 77.5% (31/40) (classification)\n",
      "+ Validation:\tAccuracy = 90% (36/40) (classification)\n",
      "Ecv =  0.07999999999999996\n"
     ]
    }
   ],
   "source": [
    "def Problem16(train_y, train_x, test_y, test_x):\n",
    "    folds = []\n",
    "    for i in range(5):\n",
    "        start = i*40\n",
    "        end = start + 40\n",
    "        \n",
    "        prob_y = train_y[0:start].tolist() + train_y[end:200].tolist()\n",
    "        prob_x = train_x[0:start].tolist() + train_x[end:200].tolist()\n",
    "        prob = ll.problem(prob_y, prob_x)\n",
    "\n",
    "        valid_y = train_y[start:end].tolist()\n",
    "        valid_x = train_x[start:end].tolist()\n",
    "\n",
    "        folds.append((prob, valid_y, valid_x))\n",
    "\n",
    "    # c = (1 / (2 * lambda))\n",
    "    all_acc_dict = {}\n",
    "    for log_lam in [-4, -2, 0, 2, 4]:\n",
    "        print(\"log10 lambda =\",log_lam, end = \"\\n\")\n",
    "        c = 1 / (2 * 10**(log_lam))\n",
    "\n",
    "        acc_list = []\n",
    "        for i in range(5):\n",
    "            prob, valid_y, valid_x = folds[i]\n",
    "\n",
    "            m = ll.train(prob, '-s 0 -e 0.000001 -c '+str(c))\n",
    "            \n",
    "            print(\"+ Validation:\", end = \"\\t\")\n",
    "            _, acc, _ = ll.predict(valid_y, valid_x, m)\n",
    "\n",
    "            acc_list.append(acc[0])\n",
    "\n",
    "        all_acc_dict[log_lam] = np.average(acc_list)\n",
    "    \n",
    "    print(\"Ecv = \", 1 - max(all_acc_dict.values()) / 100)\n",
    "\n",
    "    return all_acc_dict\n",
    "\n",
    "acc_list = Problem16(train_y, tf_train_x, test_y, tf_test_x)"
   ]
  }
 ],
 "metadata": {
  "interpreter": {
   "hash": "916dbcbb3f70747c44a77c7bcd40155683ae19c65e1c03b4aa3499c5328201f1"
  },
  "kernelspec": {
   "display_name": "Python 3.8.10 64-bit",
   "language": "python",
   "name": "python3"
  },
  "language_info": {
   "codemirror_mode": {
    "name": "ipython",
    "version": 3
   },
   "file_extension": ".py",
   "mimetype": "text/x-python",
   "name": "python",
   "nbconvert_exporter": "python",
   "pygments_lexer": "ipython3",
   "version": "3.8.10"
  },
  "orig_nbformat": 4
 },
 "nbformat": 4,
 "nbformat_minor": 2
}
