{
 "cells": [
  {
   "cell_type": "code",
   "execution_count": 55,
   "metadata": {},
   "outputs": [],
   "source": [
    "import pandas as pd\n",
    "import numpy as np\n",
    "import tqdm as tqdm"
   ]
  },
  {
   "cell_type": "code",
   "execution_count": 56,
   "metadata": {},
   "outputs": [],
   "source": [
    "train_url = \"https://www.csie.ntu.edu.tw/~htlin/course/ml21fall/hw6/hw6_train.dat\"\n",
    "test_url = \"https://www.csie.ntu.edu.tw/~htlin/course/ml21fall/hw6/hw6_test.dat\"\n",
    "\n",
    "train_df = pd.read_csv(train_url, header=None, sep=' ')\n",
    "test_df = pd.read_csv(test_url, header=None, sep=' ')\n",
    "\n",
    "x_train = train_df.drop(columns=[10]).to_numpy()\n",
    "y_train = train_df[10].to_numpy()\n",
    "x_test = test_df.drop(columns=[10]).to_numpy()\n",
    "y_test = test_df[10].to_numpy()"
   ]
  },
  {
   "cell_type": "code",
   "execution_count": 57,
   "metadata": {},
   "outputs": [],
   "source": [
    "T = 500"
   ]
  },
  {
   "cell_type": "markdown",
   "metadata": {},
   "source": [
    "## Problem 11 and 12"
   ]
  },
  {
   "cell_type": "code",
   "execution_count": 58,
   "metadata": {},
   "outputs": [],
   "source": [
    "def Problem_11_12(x_train, y_train):\n",
    "        n_spl = x_train.shape[0]\n",
    "        n_fea = x_train.shape[1]\n",
    "        u = np.ones(n_spl) * 1/n_spl\n",
    "        \n",
    "        ein = []\n",
    "        alpha = []\n",
    "        for t in tqdm.tqdm(range(T)):\n",
    "                best = None\n",
    " \n",
    "                for i in range(n_fea):\n",
    "                        sort_idx = x_train[:, i].argsort()\n",
    "                        y_tmp = y_train[sort_idx] # sort target\n",
    "                        x_tmp = x_train[sort_idx] # sort feature\n",
    "\n",
    "                        pos_pred = np.ones(n_spl) # > theta, +1\n",
    "                        neg_pred = -np.ones(n_spl) # > theta, -1\n",
    "\n",
    "                        # first time\n",
    "                        pos_err = 0\n",
    "                        neg_err = 0\n",
    "                        for r in range(0, n_spl):\n",
    "                                if y_tmp[r] == +1:\n",
    "                                        neg_err += u[sort_idx[r]]\n",
    "                                else:\n",
    "                                        pos_err += u[sort_idx[r]]\n",
    "                                        \n",
    "                        if (pos_err < neg_err):\n",
    "                                local_best = (+1, i, -np.inf, pos_err)\n",
    "                        else:\n",
    "                                local_best = (-1, i, -np.inf, neg_err)\n",
    "\n",
    "                        # move forward for each theta\n",
    "                        for r in range(0, n_spl - 1):\n",
    "                                if y_tmp[r] == +1:\n",
    "                                        pos_err += u[sort_idx[r]] \n",
    "                                        neg_err -= u[sort_idx[r]]\n",
    "                                else:\n",
    "                                        pos_err -= u[sort_idx[r]] \n",
    "                                        neg_err += u[sort_idx[r]]\n",
    "\n",
    "                                theta = (x_tmp[r][i] + x_tmp[r+1][i]) / 2\n",
    "\n",
    "                                if (pos_err < neg_err):\n",
    "                                        tmp_best = (+1, i, theta, pos_err)\n",
    "                                else:\n",
    "                                        tmp_best = (-1, i, theta, neg_err)\n",
    "                                \n",
    "                                if (local_best[3] > tmp_best[3]):\n",
    "                                        local_best = tmp_best\n",
    "\n",
    "                        # Compare with global best\n",
    "                        if best == None or best[3] > local_best[3]:\n",
    "                                best = local_best                        \n",
    "\n",
    "                # prepare for update u\n",
    "                et = best[3] / np.sum(u)\n",
    "                dt = np.sqrt((1-et) / et)\n",
    "\n",
    "                # Get best parameter\n",
    "                s, i, theta, _ = best\n",
    "\n",
    "                # calculate 0/1 error and update u\n",
    "                error = 0\n",
    "                for r in range(n_spl):\n",
    "                        if x_train[r][i] > theta: # +s\n",
    "                                if (y_train[r] != s):\n",
    "                                        error += 1\n",
    "                                        u[r] *= dt\n",
    "                                else:\n",
    "                                        u[r] /= dt\n",
    "                        else: # -s\n",
    "                                if (y_train[r] != -s):\n",
    "                                        error += 1\n",
    "                                        u[r] *= dt\n",
    "                                else:\n",
    "                                        u[r] /= dt\n",
    "                \n",
    "                # record current best\n",
    "                ein.append(error / n_spl)\n",
    "                alpha.append((np.log(dt), best))\n",
    "\n",
    "        return ein, alpha"
   ]
  },
  {
   "cell_type": "code",
   "execution_count": 59,
   "metadata": {},
   "outputs": [
    {
     "name": "stderr",
     "output_type": "stream",
     "text": [
      "100%|██████████| 500/500 [00:13<00:00, 36.74it/s]\n"
     ]
    }
   ],
   "source": [
    "ein, alpha = Problem_11_12(x_train, y_train)"
   ]
  },
  {
   "cell_type": "code",
   "execution_count": 60,
   "metadata": {},
   "outputs": [
    {
     "name": "stdout",
     "output_type": "stream",
     "text": [
      "0.374\n",
      "0.591\n"
     ]
    }
   ],
   "source": [
    "print(np.min(ein))\n",
    "print(np.max(ein))"
   ]
  },
  {
   "cell_type": "markdown",
   "metadata": {},
   "source": [
    "## Problem 13"
   ]
  },
  {
   "cell_type": "code",
   "execution_count": 61,
   "metadata": {},
   "outputs": [],
   "source": [
    "def Problem_13(x_train, y_train, alpha):\n",
    "        n_spl = x_train.shape[0]\n",
    "\n",
    "        pred_list = []\n",
    "        for settings in alpha:                \n",
    "                a, para = settings\n",
    "                s, i, theta, _ = para\n",
    "\n",
    "                local_pred = np.zeros(n_spl)\n",
    "                for r in range(n_spl):\n",
    "                        if (x_train[r][i] > theta) :\n",
    "                                local_pred[r] = +s\n",
    "                        else:\n",
    "                                local_pred[r] = -s\n",
    "\n",
    "                pred_list.append(a * local_pred)\n",
    "        \n",
    "        err_list = []\n",
    "        cur_pred = np.zeros(n_spl)\n",
    "        for pred in pred_list:\n",
    "                cur_pred += pred\n",
    "\n",
    "                error = 0\n",
    "                for r in range(n_spl):\n",
    "                        if cur_pred[r] * y_train[r] < 0:\n",
    "                                error += 1\n",
    "                err_list.append(error / n_spl)\n",
    "\n",
    "        return err_list"
   ]
  },
  {
   "cell_type": "code",
   "execution_count": 62,
   "metadata": {},
   "outputs": [],
   "source": [
    "err_list = Problem_13(x_train, y_train, alpha)"
   ]
  },
  {
   "cell_type": "code",
   "execution_count": 63,
   "metadata": {},
   "outputs": [
    {
     "name": "stdout",
     "output_type": "stream",
     "text": [
      "354\n"
     ]
    }
   ],
   "source": [
    "for i in range(len(err_list)):\n",
    "        if (err_list[i] <= 0.05):\n",
    "                print(i)\n",
    "                break"
   ]
  },
  {
   "cell_type": "markdown",
   "metadata": {},
   "source": [
    "## Problem 14"
   ]
  },
  {
   "cell_type": "code",
   "execution_count": 64,
   "metadata": {},
   "outputs": [],
   "source": [
    "def Problem_14(x_test, y_test, g1):\n",
    "        n_spl = x_test.shape[0]\n",
    "\n",
    "        a, para = g1\n",
    "        s, i, theta, _ = para\n",
    "\n",
    "        local_pred = np.zeros(n_spl)\n",
    "        for r in range(n_spl):\n",
    "                if (x_test[r][i] > theta) :\n",
    "                        local_pred[r] = +s\n",
    "                else:\n",
    "                        local_pred[r] = -s\n",
    "\n",
    "        error = 0\n",
    "        for r in range(n_spl):\n",
    "                if local_pred[r] * y_test[r] < 0:\n",
    "                        error += 1\n",
    "        error /= n_spl\n",
    "\n",
    "        return error"
   ]
  },
  {
   "cell_type": "code",
   "execution_count": 65,
   "metadata": {},
   "outputs": [
    {
     "data": {
      "text/plain": [
       "0.455"
      ]
     },
     "execution_count": 65,
     "metadata": {},
     "output_type": "execute_result"
    }
   ],
   "source": [
    "Problem_14(x_test, y_test, alpha[0])"
   ]
  },
  {
   "cell_type": "markdown",
   "metadata": {},
   "source": [
    "## Problem 15"
   ]
  },
  {
   "cell_type": "code",
   "execution_count": 66,
   "metadata": {},
   "outputs": [],
   "source": [
    "def Problem_15(x_test, y_test, alpha):\n",
    "        n_spl = x_test.shape[0]\n",
    "\n",
    "        cur_pred = np.zeros(n_spl)\n",
    "        for settings in alpha:                \n",
    "                _, para = settings\n",
    "                s, i, theta, _ = para\n",
    "\n",
    "                local_pred = np.zeros(n_spl)\n",
    "                for r in range(n_spl):\n",
    "                        if (x_test[r][i] > theta) :\n",
    "                                local_pred[r] = +s\n",
    "                        else:\n",
    "                                local_pred[r] = -s\n",
    "\n",
    "                cur_pred += local_pred\n",
    "        \n",
    "        error = 0\n",
    "        for r in range(n_spl):\n",
    "                if cur_pred[r] * y_test[r] < 0:\n",
    "                        error += 1\n",
    "\n",
    "        return error / n_spl"
   ]
  },
  {
   "cell_type": "code",
   "execution_count": 67,
   "metadata": {},
   "outputs": [
    {
     "data": {
      "text/plain": [
       "0.205"
      ]
     },
     "execution_count": 67,
     "metadata": {},
     "output_type": "execute_result"
    }
   ],
   "source": [
    "err = Problem_15(x_test, y_test, alpha)\n",
    "err"
   ]
  },
  {
   "cell_type": "markdown",
   "metadata": {},
   "source": [
    "## Problem 16"
   ]
  },
  {
   "cell_type": "code",
   "execution_count": 68,
   "metadata": {},
   "outputs": [],
   "source": [
    "def Problem_16(x_test, y_test, alpha):\n",
    "        n_spl = x_test.shape[0]\n",
    "\n",
    "        cur_pred = np.zeros(n_spl)\n",
    "        for settings in alpha:                \n",
    "                a, para = settings\n",
    "                s, i, theta, _ = para\n",
    "\n",
    "                local_pred = np.zeros(n_spl)\n",
    "                for r in range(n_spl):\n",
    "                        if (x_test[r][i] > theta) :\n",
    "                                local_pred[r] = +s\n",
    "                        else:\n",
    "                                local_pred[r] = -s\n",
    "\n",
    "                cur_pred += a * local_pred\n",
    "        \n",
    "        error = 0\n",
    "        for r in range(n_spl):\n",
    "                if cur_pred[r] * y_test[r] < 0:\n",
    "                        error += 1\n",
    "\n",
    "        return error / n_spl"
   ]
  },
  {
   "cell_type": "code",
   "execution_count": 69,
   "metadata": {},
   "outputs": [
    {
     "data": {
      "text/plain": [
       "0.188"
      ]
     },
     "execution_count": 69,
     "metadata": {},
     "output_type": "execute_result"
    }
   ],
   "source": [
    "err = Problem_16(x_test, y_test, alpha)\n",
    "err"
   ]
  },
  {
   "cell_type": "code",
   "execution_count": 70,
   "metadata": {},
   "outputs": [
    {
     "name": "stdout",
     "output_type": "stream",
     "text": [
      "[0.374, 0.374, 0.318, 0.345, 0.304, 0.308, 0.302, 0.297, 0.291, 0.256, 0.254, 0.261, 0.249, 0.24, 0.233, 0.222, 0.225, 0.216, 0.204, 0.213]\n"
     ]
    }
   ],
   "source": [
    "ein_list = Problem_13(x_train, y_train, alpha)\n",
    "print(ein_list[:20])"
   ]
  },
  {
   "cell_type": "code",
   "execution_count": 71,
   "metadata": {},
   "outputs": [
    {
     "name": "stdout",
     "output_type": "stream",
     "text": [
      "[0.455, 0.455, 0.393, 0.415, 0.383, 0.355, 0.382, 0.338, 0.344, 0.31, 0.307, 0.319, 0.311, 0.3, 0.283, 0.271, 0.278, 0.272, 0.263, 0.267]\n"
     ]
    }
   ],
   "source": [
    "eout_list = Problem_13(x_test, y_test, alpha)\n",
    "print(eout_list[:20])"
   ]
  },
  {
   "cell_type": "code",
   "execution_count": null,
   "metadata": {},
   "outputs": [],
   "source": []
  }
 ],
 "metadata": {
  "interpreter": {
   "hash": "ca33e2469b3d59a704cd852332c869bdb2aeb0bf9af90d3549491745f1cd3639"
  },
  "kernelspec": {
   "display_name": "Python 3.9.9 64-bit (windows store)",
   "language": "python",
   "name": "python3"
  },
  "language_info": {
   "codemirror_mode": {
    "name": "ipython",
    "version": 3
   },
   "file_extension": ".py",
   "mimetype": "text/x-python",
   "name": "python",
   "nbconvert_exporter": "python",
   "pygments_lexer": "ipython3",
   "version": "3.9.9"
  },
  "orig_nbformat": 4
 },
 "nbformat": 4,
 "nbformat_minor": 2
}
