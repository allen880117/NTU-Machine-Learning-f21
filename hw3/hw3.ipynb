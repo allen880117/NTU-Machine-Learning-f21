{
 "cells": [
  {
   "cell_type": "code",
   "execution_count": 1,
   "metadata": {},
   "outputs": [],
   "source": [
    "import numpy as np\n",
    "import pandas as pd\n",
    "import copy\n",
    "import tqdm"
   ]
  },
  {
   "cell_type": "code",
   "execution_count": 2,
   "metadata": {},
   "outputs": [],
   "source": [
    "train_url = \"https://www.csie.ntu.edu.tw/~htlin/course/ml21fall/hw3/hw3_train.dat\"\n",
    "test_url = \"https://www.csie.ntu.edu.tw/~htlin/course/ml21fall/hw3/hw3_test.dat\"\n",
    "df_train = pd.read_csv(train_url, sep='\\t', header=None)\n",
    "df_test = pd.read_csv(test_url, sep='\\t', header=None)"
   ]
  },
  {
   "cell_type": "code",
   "execution_count": 3,
   "metadata": {},
   "outputs": [],
   "source": [
    "df_train_target = df_train[10].to_numpy()\n",
    "df_train = df_train.drop(10, axis=1).to_numpy()\n",
    "df_test_target = df_test[10].to_numpy()\n",
    "df_test = df_test.drop(10, axis=1).to_numpy()"
   ]
  },
  {
   "cell_type": "code",
   "execution_count": 4,
   "metadata": {},
   "outputs": [],
   "source": [
    "def hete_transform(x:np.ndarray, Q=2):\n",
    "    ret = [1.0]\n",
    "    ret.extend(x.tolist())\n",
    "    tmp = np.copy(x)\n",
    "    for i in range(2, Q+1):\n",
    "        tmp *= x\n",
    "        ret.extend(tmp)\n",
    "    return np.array(ret)\n",
    "\n",
    "def df_transform(input:np.ndarray, transform, Q=2):\n",
    "    output = []\n",
    "    for x in input:\n",
    "        output.append(transform(x, Q))\n",
    "    return np.array(output)"
   ]
  },
  {
   "cell_type": "code",
   "execution_count": 5,
   "metadata": {},
   "outputs": [],
   "source": [
    "def linear_regression(features, target):\n",
    "    return np.linalg.pinv(features) * target"
   ]
  },
  {
   "cell_type": "code",
   "execution_count": 6,
   "metadata": {},
   "outputs": [],
   "source": [
    "def calculate_err(w, x, y, N):    \n",
    "    zo_err = np.zeros(N)\n",
    "    for k in range(N):\n",
    "        y_hat = w.transpose() * x[k].transpose()\n",
    "        if (y_hat * y[k] < 0):\n",
    "            zo_err[k] = 1\n",
    "    return np.average(zo_err)"
   ]
  },
  {
   "cell_type": "code",
   "execution_count": 7,
   "metadata": {},
   "outputs": [
    {
     "name": "stdout",
     "output_type": "stream",
     "text": [
      "Problem 12:  0.3263333333333333\n"
     ]
    }
   ],
   "source": [
    "def problem_12(x_train, y_train, x_test, y_test):\n",
    "    z_train = np.mat(df_transform(x_train, hete_transform, 2))\n",
    "    y_train = np.mat(y_train).transpose()\n",
    "\n",
    "    z_test = np.mat(df_transform(x_test, hete_transform, 2))\n",
    "    y_test = np.mat(y_test).transpose()\n",
    "\n",
    "    w_lin = linear_regression(z_train, y_train)\n",
    "\n",
    "    zo_err_train = calculate_err(w_lin, z_train, y_train, z_train.shape[0])\n",
    "    zo_err_test = calculate_err(w_lin, z_test, y_test, z_test.shape[0])\n",
    "\n",
    "    print(\"Problem 12: \", np.abs(zo_err_train - zo_err_test))\n",
    "\n",
    "problem_12(df_train, df_train_target, df_test, df_test_target)\n"
   ]
  },
  {
   "cell_type": "code",
   "execution_count": 8,
   "metadata": {},
   "outputs": [
    {
     "name": "stdout",
     "output_type": "stream",
     "text": [
      "Problem 13:  0.4576666666666667\n"
     ]
    }
   ],
   "source": [
    "def problem_13(x_train, y_train, x_test, y_test):\n",
    "    z_train = np.mat(df_transform(x_train, hete_transform, 8))\n",
    "    y_train = np.mat(y_train).transpose()\n",
    "    \n",
    "    z_test = np.mat(df_transform(x_test, hete_transform, 8))\n",
    "    y_test = np.mat(y_test).transpose()\n",
    "\n",
    "    w_lin = linear_regression(z_train, y_train)\n",
    "\n",
    "    zo_err_train = calculate_err(w_lin, z_train, y_train, z_train.shape[0])\n",
    "    zo_err_test = calculate_err(w_lin, z_test, y_test, z_test.shape[0])\n",
    "\n",
    "    print(\"Problem 13: \", np.abs(zo_err_train - zo_err_test))\n",
    "\n",
    "problem_13(df_train, df_train_target, df_test, df_test_target)\n",
    "\n"
   ]
  },
  {
   "cell_type": "code",
   "execution_count": 9,
   "metadata": {},
   "outputs": [],
   "source": [
    "def full_order_2(x:np.ndarray, Q=None):\n",
    "    ret = [1.0]\n",
    "    ret.extend(x.tolist())\n",
    "    for i in range(x.shape[0]):\n",
    "        for j in range(i+1, x.shape[0]):\n",
    "            ret.append(x[i] * x[j])\n",
    "    ret.extend((x ** 2).tolist())\n",
    "    return np.array(ret)"
   ]
  },
  {
   "cell_type": "code",
   "execution_count": 10,
   "metadata": {},
   "outputs": [
    {
     "name": "stdout",
     "output_type": "stream",
     "text": [
      "Problem 14:  0.33866666666666667\n"
     ]
    }
   ],
   "source": [
    "def problem_14(x_train, y_train, x_test, y_test):\n",
    "    z_train = np.mat(df_transform(x_train, full_order_2, 2))\n",
    "    y_train = np.mat(y_train).transpose()\n",
    "    \n",
    "    z_test = np.mat(df_transform(x_test, full_order_2, 2))\n",
    "    y_test = np.mat(y_test).transpose()\n",
    "\n",
    "    w_lin = linear_regression(z_train, y_train)\n",
    "\n",
    "    zo_err_train = calculate_err(w_lin, z_train, y_train, z_train.shape[0])\n",
    "    zo_err_test = calculate_err(w_lin, z_test, y_test, z_test.shape[0])\n",
    "\n",
    "    print(\"Problem 14: \", np.abs(zo_err_train - zo_err_test))\n",
    "\n",
    "problem_14(df_train, df_train_target, df_test, df_test_target)\n",
    "\n"
   ]
  },
  {
   "cell_type": "code",
   "execution_count": 11,
   "metadata": {},
   "outputs": [],
   "source": [
    "def shrink(x:np.ndarray, Q=1):\n",
    "    ret = [1.0]\n",
    "    ret.extend(x[:Q].tolist())\n",
    "    return np.array(ret)"
   ]
  },
  {
   "cell_type": "code",
   "execution_count": 12,
   "metadata": {},
   "outputs": [
    {
     "name": "stderr",
     "output_type": "stream",
     "text": [
      "100%|██████████| 10/10 [00:01<00:00,  6.54it/s]"
     ]
    },
    {
     "name": "stdout",
     "output_type": "stream",
     "text": [
      "Problem 15:  (3, 0.1323333333333333)\n",
      "[0.13666666666666666, 0.13433333333333336, 0.1323333333333333, 0.1443333333333333, 0.2523333333333333, 0.3223333333333333, 0.26466666666666666, 0.2653333333333333, 0.2483333333333333, 0.3226666666666666]\n"
     ]
    },
    {
     "name": "stderr",
     "output_type": "stream",
     "text": [
      "\n"
     ]
    }
   ],
   "source": [
    "def problem_15(x_train, y_train, x_test, y_test):\n",
    "    diff = []\n",
    "    y_train = np.mat(y_train).transpose()\n",
    "    y_test = np.mat(y_test).transpose()\n",
    "\n",
    "    for i in tqdm.tqdm(range(1, x_train[0].shape[0] + 1)):\n",
    "        z_train = np.mat(df_transform(x_train, shrink, i))\n",
    "        \n",
    "        z_test = np.mat(df_transform(x_test, shrink, i))\n",
    "\n",
    "        w_lin = linear_regression(z_train, y_train)\n",
    "\n",
    "        zo_err_train = calculate_err(w_lin, z_train, y_train, z_train.shape[0])\n",
    "        zo_err_test = calculate_err(w_lin, z_test, y_test, z_test.shape[0])\n",
    "\n",
    "        diff.append(np.abs(zo_err_train - zo_err_test))\n",
    "\n",
    "    idx = np.argmin(diff) + 1\n",
    "    print(\"Problem 15: \", (idx, diff[idx - 1]))\n",
    "    print(diff)\n",
    "\n",
    "problem_15(df_train, df_train_target, df_test, df_test_target)"
   ]
  },
  {
   "cell_type": "code",
   "execution_count": 13,
   "metadata": {},
   "outputs": [],
   "source": [
    "def sample_5(x:np.ndarray, Q:np.array):\n",
    "    ret = [1.0]\n",
    "    for idx in Q:\n",
    "        ret.append(x[idx])\n",
    "    return np.array(ret)"
   ]
  },
  {
   "cell_type": "code",
   "execution_count": 14,
   "metadata": {},
   "outputs": [
    {
     "name": "stderr",
     "output_type": "stream",
     "text": [
      "100%|██████████| 200/200 [00:30<00:00,  6.53it/s]"
     ]
    },
    {
     "name": "stdout",
     "output_type": "stream",
     "text": [
      "Problem 16:  0.21406\n"
     ]
    },
    {
     "name": "stderr",
     "output_type": "stream",
     "text": [
      "\n"
     ]
    }
   ],
   "source": [
    "def problem_16(x_train, y_train, x_test, y_test):\n",
    "    diff = []\n",
    "    y_train = np.mat(y_train).transpose()\n",
    "    y_test = np.mat(y_test).transpose()\n",
    "\n",
    "    for i in tqdm.tqdm(range(200)):\n",
    "        rng = np.random.RandomState(i)\n",
    "        sample = rng.choice([i for i in range(10)], 5, replace=False)\n",
    "        z_train = np.mat(df_transform(x_train, sample_5, sample))\n",
    "        z_test = np.mat(df_transform(x_test, sample_5, sample))\n",
    "\n",
    "        w_lin = linear_regression(z_train, y_train)\n",
    "\n",
    "        zo_err_train = calculate_err(w_lin, z_train, y_train, z_train.shape[0])\n",
    "        zo_err_test = calculate_err(w_lin, z_test, y_test, z_test.shape[0])\n",
    "\n",
    "        diff.append(np.abs(zo_err_train - zo_err_test))\n",
    "\n",
    "\n",
    "    print(\"Problem 16: \", np.average(diff))\n",
    "\n",
    "problem_16(df_train, df_train_target, df_test, df_test_target)\n",
    "\n"
   ]
  },
  {
   "cell_type": "code",
   "execution_count": null,
   "metadata": {},
   "outputs": [],
   "source": []
  }
 ],
 "metadata": {
  "interpreter": {
   "hash": "ca33e2469b3d59a704cd852332c869bdb2aeb0bf9af90d3549491745f1cd3639"
  },
  "kernelspec": {
   "display_name": "Python 3.9.7 64-bit (windows store)",
   "language": "python",
   "name": "python3"
  },
  "language_info": {
   "codemirror_mode": {
    "name": "ipython",
    "version": 3
   },
   "file_extension": ".py",
   "mimetype": "text/x-python",
   "name": "python",
   "nbconvert_exporter": "python",
   "pygments_lexer": "ipython3",
   "version": "3.9.9"
  },
  "orig_nbformat": 4
 },
 "nbformat": 4,
 "nbformat_minor": 2
}
