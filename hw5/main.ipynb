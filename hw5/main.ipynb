{
 "cells": [
  {
   "cell_type": "code",
   "execution_count": 1,
   "metadata": {},
   "outputs": [],
   "source": [
    "import pandas as pd\n",
    "import numpy as np\n",
    "import libsvm.svmutil as svm_util\n",
    "import tqdm as tqdm"
   ]
  },
  {
   "cell_type": "code",
   "execution_count": 2,
   "metadata": {},
   "outputs": [],
   "source": [
    "train_file = \"satimage.scale\"\n",
    "test_file = \"satimage.scale.t\"\n",
    "y_train, x_train = svm_util.svm_read_problem(train_file)\n",
    "y_test, x_test = svm_util.svm_read_problem(test_file)"
   ]
  },
  {
   "cell_type": "code",
   "execution_count": 3,
   "metadata": {},
   "outputs": [],
   "source": [
    "def preprocessing(y, target):\n",
    "        y_tmp = np.copy(np.array(y))\n",
    "        y_tmp[y_tmp != target] = 0\n",
    "        y_tmp[y_tmp == target] = 1\n",
    "        return y_tmp.tolist()"
   ]
  },
  {
   "cell_type": "markdown",
   "metadata": {},
   "source": [
    "## Problem 11"
   ]
  },
  {
   "cell_type": "code",
   "execution_count": 4,
   "metadata": {},
   "outputs": [],
   "source": [
    "def Problem_11(x_train, y_train):\n",
    "        y_5 = preprocessing(y_train, 5)\n",
    "        x_5 = x_train\n",
    "\n",
    "        m = svm_util.svm_train(y_5, x_5, '-s 0 -c 10 -t 0')\n",
    "\n",
    "        sv_coef = m.get_sv_coef()\n",
    "        sv_list  = m.get_SV()\n",
    "\n",
    "        w = np.zeros(36)\n",
    "        for i in range(len(sv_list)):\n",
    "                tmp = np.zeros(36)\n",
    "                for key, val in sv_list[i].items():\n",
    "                        tmp[key-1] = val\n",
    "                w += tmp * sv_coef[i][0]\n",
    "\n",
    "        return sv_coef, sv_list, w\n",
    "\n",
    "sv_coef, sv_list, w = Problem_11(x_train, y_train)"
   ]
  },
  {
   "cell_type": "code",
   "execution_count": 5,
   "metadata": {},
   "outputs": [
    {
     "data": {
      "text/plain": [
       "4.646266066206163"
      ]
     },
     "execution_count": 5,
     "metadata": {},
     "output_type": "execute_result"
    }
   ],
   "source": [
    "np.linalg.norm(w)"
   ]
  },
  {
   "cell_type": "markdown",
   "metadata": {},
   "source": [
    "## Problem 12"
   ]
  },
  {
   "cell_type": "code",
   "execution_count": 6,
   "metadata": {},
   "outputs": [],
   "source": [
    "def Problem_12(x_train, y_train):\n",
    "        record = []\n",
    "        for i in [2, 3, 4, 5, 6]:\n",
    "                y = preprocessing(y_train, i)\n",
    "                x = x_train\n",
    "                \n",
    "                type_param = '-s 0 -c 10 ' # C-SVC, C=10\n",
    "                kernel_param = '-t 1 -g 1 -r 1 -d 3' # polynomial, gamma=1, coef0=1, degree=3\n",
    "                m = svm_util.svm_train(y, x, type_param + kernel_param)\n",
    "                p_label, p_acc, p_val = svm_util.svm_predict(y, x, m)\n",
    "                e_in = 100 - p_acc[0]\n",
    "                record.append((i, p_acc, e_in))\n",
    "        return record\n"
   ]
  },
  {
   "cell_type": "code",
   "execution_count": 7,
   "metadata": {},
   "outputs": [
    {
     "name": "stdout",
     "output_type": "stream",
     "text": [
      "Accuracy = 100% (4435/4435) (classification)\n",
      "Accuracy = 99.7294% (4423/4435) (classification)\n",
      "Accuracy = 99.1657% (4398/4435) (classification)\n",
      "Accuracy = 100% (4435/4435) (classification)\n",
      "Accuracy = 99.7069% (4422/4435) (classification)\n"
     ]
    }
   ],
   "source": [
    "record = Problem_12(x_train, y_train)"
   ]
  },
  {
   "cell_type": "code",
   "execution_count": 8,
   "metadata": {},
   "outputs": [
    {
     "name": "stdout",
     "output_type": "stream",
     "text": [
      "(2, (100.0, 0.0, 1.0), 0.0)\n",
      "(3, (99.72942502818489, 0.002705749718151071, 0.9841734986966887), 0.27057497181510826)\n",
      "(4, (99.16572717023675, 0.00834272829763247, 0.9039585433862588), 0.8342728297632505)\n",
      "(5, (100.0, 0.0, 1.0), 0.0)\n",
      "(6, (99.70687711386697, 0.002931228861330327, 0.9836984374076272), 0.29312288613303394)\n",
      "Largest Ein:  (4, (99.16572717023675, 0.00834272829763247, 0.9039585433862588), 0.8342728297632505)\n"
     ]
    }
   ],
   "source": [
    "max_e_in = record[0]\n",
    "for i in record:\n",
    "        if (max_e_in[2] < i[2]):\n",
    "                max_e_in = i\n",
    "        print(i)\n",
    "print(\"Largest Ein: \", max_e_in)"
   ]
  },
  {
   "cell_type": "markdown",
   "metadata": {},
   "source": [
    "## Problem 13"
   ]
  },
  {
   "cell_type": "code",
   "execution_count": 9,
   "metadata": {},
   "outputs": [],
   "source": [
    "def Problem_13(x_train, y_train):\n",
    "        record = []\n",
    "        for i in [2, 3, 4, 5, 6]:\n",
    "                y = preprocessing(y_train, i)\n",
    "                x = x_train\n",
    "                \n",
    "                type_param = '-s 0 -c 10 ' # C-SVC, C=10\n",
    "                kernel_param = '-t 1 -g 1 -r 1 -d 3' # polynomial, gamma=1, coef0=1, degree=3\n",
    "                m = svm_util.svm_train(y, x, type_param + kernel_param)\n",
    "\n",
    "                record.append(m.get_nr_sv())\n",
    "        return record\n"
   ]
  },
  {
   "cell_type": "code",
   "execution_count": 10,
   "metadata": {},
   "outputs": [
    {
     "name": "stdout",
     "output_type": "stream",
     "text": [
      "[93, 385, 660, 281, 607]\n"
     ]
    }
   ],
   "source": [
    "num_sv = Problem_13(x_train, y_train)\n",
    "print(num_sv)"
   ]
  },
  {
   "cell_type": "markdown",
   "metadata": {},
   "source": [
    "## Problem 14"
   ]
  },
  {
   "cell_type": "code",
   "execution_count": 11,
   "metadata": {},
   "outputs": [],
   "source": [
    "def Problem_14(x_train, y_train, x_test, y_test):\n",
    "        record = []\n",
    "        y = preprocessing(y_train, 1)\n",
    "        x = x_train\n",
    "        y_test_1 = preprocessing(y_test, 1)\n",
    "        x_test_1 = x_test\n",
    "                \n",
    "        for C in [0.01, 0.1, 1, 10, 100]:\n",
    "                print(\"C = \", C)\n",
    "\n",
    "                type_param = '-s 0 -c ' + str(C) + ' ' # C-SVC, C=C\n",
    "                kernel_param = '-t 2 -g 10' # radial basis, gamma=10\n",
    "                m = svm_util.svm_train(y, x, type_param + kernel_param)\n",
    "                p_label, p_acc, p_val = svm_util.svm_predict(y_test_1, x_test_1, m)\n",
    "\n",
    "                record.append((C, p_acc))\n",
    "        return record\n"
   ]
  },
  {
   "cell_type": "code",
   "execution_count": 12,
   "metadata": {},
   "outputs": [
    {
     "name": "stdout",
     "output_type": "stream",
     "text": [
      "C =  0.01\n",
      "Accuracy = 76.95% (1539/2000) (classification)\n",
      "C =  0.1\n",
      "Accuracy = 79.25% (1585/2000) (classification)\n",
      "C =  1\n",
      "Accuracy = 89.05% (1781/2000) (classification)\n",
      "C =  10\n",
      "Accuracy = 89.95% (1799/2000) (classification)\n",
      "C =  100\n",
      "Accuracy = 89.95% (1799/2000) (classification)\n"
     ]
    }
   ],
   "source": [
    "record = Problem_14(x_train, y_train, x_test, y_test)"
   ]
  },
  {
   "cell_type": "markdown",
   "metadata": {},
   "source": [
    "## Problem 15"
   ]
  },
  {
   "cell_type": "code",
   "execution_count": 13,
   "metadata": {},
   "outputs": [],
   "source": [
    "def Problem_15(x_train, y_train, x_test, y_test):\n",
    "        record = []\n",
    "        y = preprocessing(y_train, 1)\n",
    "        x = x_train\n",
    "        y_test_1 = preprocessing(y_test, 1)\n",
    "        x_test_1 = x_test\n",
    "                \n",
    "        for Y in [0.1, 1, 10, 100, 1000]:\n",
    "                print(\"Y = \", Y)\n",
    "\n",
    "                type_param = '-s 0 -c 0.1 ' # C-SVC, C=0.1\n",
    "                kernel_param = '-t 2 -g ' + str(Y) # radial basis, gamma=Y\n",
    "                m = svm_util.svm_train(y, x, type_param + kernel_param)\n",
    "                p_label, p_acc, p_val = svm_util.svm_predict(y_test_1, x_test_1, m)\n",
    "\n",
    "                record.append((Y, p_acc))\n",
    "        return record\n"
   ]
  },
  {
   "cell_type": "code",
   "execution_count": 14,
   "metadata": {},
   "outputs": [
    {
     "name": "stdout",
     "output_type": "stream",
     "text": [
      "Y =  0.1\n",
      "Accuracy = 98.75% (1975/2000) (classification)\n",
      "Y =  1\n",
      "Accuracy = 98.8% (1976/2000) (classification)\n",
      "Y =  10\n",
      "Accuracy = 79.25% (1585/2000) (classification)\n",
      "Y =  100\n",
      "Accuracy = 76.95% (1539/2000) (classification)\n",
      "Y =  1000\n",
      "Accuracy = 76.95% (1539/2000) (classification)\n"
     ]
    }
   ],
   "source": [
    "record = Problem_15(x_train, y_train, x_test, y_test)"
   ]
  },
  {
   "cell_type": "markdown",
   "metadata": {},
   "source": [
    "## Problem 16"
   ]
  },
  {
   "cell_type": "code",
   "execution_count": 15,
   "metadata": {},
   "outputs": [],
   "source": [
    "def Problem_16(x_train, y_train):\n",
    "        y_train = np.array(preprocessing(y_train, 1))\n",
    "        x_train = np.array(x_train)\n",
    "\n",
    "        n_spl = len(x_train)\n",
    "        sample_range = np.arange(n_spl, dtype=int)\n",
    "\n",
    "        choose_time = {\n",
    "                0.1 : 0,\n",
    "                1 : 0,\n",
    "                10 : 0,\n",
    "                100 : 0,\n",
    "                1000 : 0,\n",
    "        }\n",
    "\n",
    "        for i in tqdm.tqdm(range(1000)):\n",
    "                valid_idx = np.random.choice(sample_range, replace=False, size=200)\n",
    "                \n",
    "                idx_table = np.zeros(n_spl)\n",
    "                idx_table[valid_idx] = 1\n",
    "\n",
    "                x_val = x_train[valid_idx]\n",
    "                y_val = y_train[valid_idx]\n",
    "                x = x_train[idx_table == 0]\n",
    "                y = y_train[idx_table == 0]\n",
    "\n",
    "                cur_best = None\n",
    "                for Y in [0.1, 1, 10, 100, 1000]:\n",
    "                        type_param = '-s 0 -c 0.1 ' # quiet, C-SVC, C=0.1\n",
    "                        kernel_param = '-t 2 -g ' + str(Y) # radial basis, gamma=Y\n",
    "\n",
    "                        m = svm_util.svm_train(y, x, type_param + kernel_param)\n",
    "                        _, p_acc, _= svm_util.svm_predict(y_val, x_val, m)\n",
    "\n",
    "                        if (cur_best == None) or (cur_best[1] < p_acc[0]):\n",
    "                                cur_best = (Y, p_acc[0])\n",
    "                \n",
    "                choose_time[cur_best[0]] += 1\n",
    "\n",
    "        return choose_time"
   ]
  },
  {
   "cell_type": "code",
   "execution_count": 16,
   "metadata": {},
   "outputs": [],
   "source": [
    "# choose_time = Problem_16(x_train, y_train)"
   ]
  },
  {
   "cell_type": "code",
   "execution_count": null,
   "metadata": {},
   "outputs": [],
   "source": []
  }
 ],
 "metadata": {
  "interpreter": {
   "hash": "ca33e2469b3d59a704cd852332c869bdb2aeb0bf9af90d3549491745f1cd3639"
  },
  "kernelspec": {
   "display_name": "Python 3.9.9 64-bit (windows store)",
   "language": "python",
   "name": "python3"
  },
  "language_info": {
   "codemirror_mode": {
    "name": "ipython",
    "version": 3
   },
   "file_extension": ".py",
   "mimetype": "text/x-python",
   "name": "python",
   "nbconvert_exporter": "python",
   "pygments_lexer": "ipython3",
   "version": "3.9.9"
  },
  "orig_nbformat": 4
 },
 "nbformat": 4,
 "nbformat_minor": 2
}
