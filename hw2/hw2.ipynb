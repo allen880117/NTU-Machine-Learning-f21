{
 "cells": [
  {
   "cell_type": "code",
   "execution_count": 233,
   "metadata": {},
   "outputs": [],
   "source": [
    "import numpy as np\n",
    "from tqdm import tqdm"
   ]
  },
  {
   "cell_type": "markdown",
   "metadata": {},
   "source": [
    "## Generate Data"
   ]
  },
  {
   "cell_type": "code",
   "execution_count": 234,
   "metadata": {},
   "outputs": [],
   "source": [
    "def GenerateData(N, rng):\n",
    "    D = []\n",
    "    coins = rng.randint(2, size=N) * 2 - 1\n",
    "    for coin in coins:\n",
    "        if coin == 1: # = +1\n",
    "            tmp = rng.multivariate_normal(mean=[2,3], cov=[[0.6, 0],[0,0.6]])\n",
    "        else: # = -1\n",
    "            tmp = rng.multivariate_normal(mean=[0,4], cov=[[0.4, 0],[0,0.4]])\n",
    "        D.append([1, tmp[0], tmp[1]])\n",
    "    return np.mat(D), np.mat(coins).transpose()"
   ]
  },
  {
   "cell_type": "code",
   "execution_count": 235,
   "metadata": {},
   "outputs": [],
   "source": [
    "def linear_regression(features, target):\n",
    "    return np.linalg.pinv(features) * target"
   ]
  },
  {
   "cell_type": "code",
   "execution_count": 236,
   "metadata": {},
   "outputs": [],
   "source": [
    "def theta(s):\n",
    "    return 1 / (1 + np.exp(-s))\n",
    "\n",
    "def get_gradient(w, x, y):\n",
    "    # w = 3x1, x=3x1, y=1x1\n",
    "    wT = w.transpose()\n",
    "    theta_result = theta(-y * wT * x)\n",
    "    theta_result *= (-y)\n",
    "    return np.multiply(theta_result, x)\n",
    "\n",
    "def logistic_regression(x, y, rate=0.1, iter_time=500):\n",
    "    w = np.mat([[0], [0], [0]]) # 3x1\n",
    "    N = y.shape[0]\n",
    "    for i in range(iter_time):\n",
    "        # Compute Gradient\n",
    "        dEin = np.mat([[0.0], [0.0], [0.0]])\n",
    "        for i in range(N):\n",
    "            dEin += get_gradient(w, x[i].transpose(), y[i])\n",
    "        dEin /= N\n",
    "        w = w - rate * dEin\n",
    "    return w            "
   ]
  },
  {
   "cell_type": "code",
   "execution_count": 237,
   "metadata": {},
   "outputs": [],
   "source": [
    "def calculate_err(w, x, y, N):    \n",
    "    sqr_err = np.zeros(N)\n",
    "    zo_err = np.zeros(N)\n",
    "    for k in range(N):\n",
    "        # w = (3x1), w.T = (1x3)\n",
    "        # x[k] = (1x3), x[k].T = (3x1)\n",
    "        y_hat = w.transpose() * x[k].transpose()\n",
    "        sqr_err[k] = (y_hat - y[k]) ** 2\n",
    "        if (y_hat * y[k] < 0):\n",
    "            zo_err[k] = 1\n",
    "    return np.average(sqr_err), np.average(zo_err)"
   ]
  },
  {
   "cell_type": "code",
   "execution_count": 238,
   "metadata": {},
   "outputs": [
    {
     "name": "stderr",
     "output_type": "stream",
     "text": [
      "100%|██████████| 100/100 [00:55<00:00,  1.80it/s]"
     ]
    },
    {
     "name": "stdout",
     "output_type": "stream",
     "text": [
      "Problem 13:  0.2830428321443629\n",
      "Problem 14:  0.013166\n"
     ]
    },
    {
     "name": "stderr",
     "output_type": "stream",
     "text": [
      "\n"
     ]
    }
   ],
   "source": [
    "def problem_13_14():\n",
    "    sqr_err_in = np.zeros(100)\n",
    "    zo_err_in = np.zeros(100)\n",
    "    sqr_err_out = np.zeros(100)\n",
    "    zo_err_out = np.zeros(100)\n",
    "    for i in tqdm(range(sqr_err_in.shape[0])):\n",
    "        N_in = 200\n",
    "        N_out = 5000\n",
    "\n",
    "        rng = np.random.RandomState(i)\n",
    "        D_in, D_in_target = GenerateData(N_in, rng)\n",
    "        D_out, D_out_target = GenerateData(N_out, rng)\n",
    "        \n",
    "        w_lin = linear_regression(D_in, D_in_target)\n",
    "\n",
    "        sqr_err_in[i], zo_err_in[i] = calculate_err(w_lin, D_in, D_in_target, N_in)\n",
    "        sqr_err_out[i], zo_err_out[i]  = calculate_err(w_lin, D_out, D_out_target, N_out)\n",
    "\n",
    "    print(\"Problem 13: \", np.average(sqr_err_in))\n",
    "    print(\"Problem 14: \", np.average(np.abs(zo_err_in-zo_err_out)))\n",
    "problem_13_14()"
   ]
  },
  {
   "cell_type": "code",
   "execution_count": 239,
   "metadata": {},
   "outputs": [
    {
     "name": "stderr",
     "output_type": "stream",
     "text": [
      "100%|██████████| 100/100 [10:47<00:00,  6.47s/it]"
     ]
    },
    {
     "name": "stdout",
     "output_type": "stream",
     "text": [
      "Problem 15:  (0.05848, 0.05954400000000001)\n"
     ]
    },
    {
     "name": "stderr",
     "output_type": "stream",
     "text": [
      "\n"
     ]
    }
   ],
   "source": [
    "def problem_15():\n",
    "    zo_err_lin = np.zeros(100)\n",
    "    zo_err_log = np.zeros(100)\n",
    "    for i in tqdm(range(zo_err_lin.shape[0])):\n",
    "        N_in = 200\n",
    "        N_out = 5000\n",
    "\n",
    "        rng = np.random.RandomState(i)\n",
    "        D_in, D_in_target = GenerateData(N_in, rng)\n",
    "        D_out, D_out_target = GenerateData(N_out, rng)\n",
    "        \n",
    "        w_lin = linear_regression(D_in, D_in_target)\n",
    "        w_log = logistic_regression(D_in, D_in_target)\n",
    "\n",
    "        _, zo_err_lin[i] = calculate_err(w_lin, D_out, D_out_target, N_out)\n",
    "        _, zo_err_log[i] = calculate_err(w_log, D_out, D_out_target, N_out)\n",
    "\n",
    "    print(\"Problem 15: \", (np.average(zo_err_lin), np.average(zo_err_log)))\n",
    "problem_15()"
   ]
  },
  {
   "cell_type": "code",
   "execution_count": 240,
   "metadata": {},
   "outputs": [],
   "source": [
    "def GenerateDataWithOutlier(N, N_ol, rng):\n",
    "    D = []\n",
    "    coins = []\n",
    "\n",
    "    for _ in range(N):\n",
    "        coin = rng.randint(2) * 2 - 1\n",
    "        if coin == 1: # = +1\n",
    "            tmp = rng.multivariate_normal(mean=[2,3], cov=[[0.6, 0],[0,0.6]])\n",
    "        else: # = -1\n",
    "            tmp = rng.multivariate_normal(mean=[0,4], cov=[[0.4, 0],[0,0.4]])\n",
    "        coins.append(coin)\n",
    "        D.append([1, tmp[0], tmp[1]])\n",
    "    \n",
    "    for _ in range(N_ol):\n",
    "        tmp = rng.multivariate_normal(mean=[6, 0], cov=[[0.3, 0],[0,0.1]])\n",
    "        coins.append(1)\n",
    "        D.append([1, tmp[0], tmp[1]])\n",
    "\n",
    "    return np.mat(D), np.mat(coins).transpose()"
   ]
  },
  {
   "cell_type": "code",
   "execution_count": 241,
   "metadata": {},
   "outputs": [
    {
     "name": "stderr",
     "output_type": "stream",
     "text": [
      "100%|██████████| 100/100 [14:51<00:00,  8.92s/it]"
     ]
    },
    {
     "name": "stdout",
     "output_type": "stream",
     "text": [
      "Problem 16:  (0.093052, 0.059532)\n"
     ]
    },
    {
     "name": "stderr",
     "output_type": "stream",
     "text": [
      "\n"
     ]
    }
   ],
   "source": [
    "def problem_16():\n",
    "    zo_err_lin = np.zeros(100)\n",
    "    zo_err_log = np.zeros(100)\n",
    "    for i in tqdm(range(zo_err_lin.shape[0])):\n",
    "        N_in = 200\n",
    "        N_ol = 20\n",
    "        N_out = 5000\n",
    "\n",
    "        rng = np.random.RandomState(i)\n",
    "        D_in, D_in_target = GenerateDataWithOutlier(N_in, N_ol, rng)\n",
    "        D_out, D_out_target = GenerateData(N_out, rng)\n",
    "        \n",
    "        w_lin = linear_regression(D_in, D_in_target)\n",
    "        w_log = logistic_regression(D_in, D_in_target)\n",
    "\n",
    "        _, zo_err_lin[i] = calculate_err(w_lin, D_out, D_out_target, N_out)\n",
    "        _, zo_err_log[i] = calculate_err(w_log, D_out, D_out_target, N_out)\n",
    "\n",
    "    print(\"Problem 16: \", (np.average(zo_err_lin), np.average(zo_err_log)))\n",
    "problem_16()"
   ]
  },
  {
   "cell_type": "code",
   "execution_count": null,
   "metadata": {},
   "outputs": [],
   "source": []
  }
 ],
 "metadata": {
  "interpreter": {
   "hash": "ca33e2469b3d59a704cd852332c869bdb2aeb0bf9af90d3549491745f1cd3639"
  },
  "kernelspec": {
   "display_name": "Python 3.9.7 64-bit (windows store)",
   "name": "python3"
  },
  "language_info": {
   "codemirror_mode": {
    "name": "ipython",
    "version": 3
   },
   "file_extension": ".py",
   "mimetype": "text/x-python",
   "name": "python",
   "nbconvert_exporter": "python",
   "pygments_lexer": "ipython3",
   "version": "3.9.7"
  },
  "orig_nbformat": 4
 },
 "nbformat": 4,
 "nbformat_minor": 2
}
