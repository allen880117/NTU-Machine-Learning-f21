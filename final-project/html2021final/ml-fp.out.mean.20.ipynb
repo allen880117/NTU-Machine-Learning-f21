{
 "cells": [
  {
   "cell_type": "code",
   "execution_count": 2,
   "metadata": {},
   "outputs": [],
   "source": [
    "import os\n",
    "import pandas as pd\n",
    "import numpy as np\n",
    "import sklearn.impute as sk_imp\n",
    "import sklearn.preprocessing as sk_pre\n",
    "import sklearn.model_selection as sk_ms\n",
    "import xgboost as xb\n",
    "# from sklearn.impute import SimpleImputer"
   ]
  },
  {
   "cell_type": "code",
   "execution_count": 3,
   "metadata": {},
   "outputs": [],
   "source": [
    "dem_df = pd.read_csv(\"demographics.csv\")\n",
    "loc_df = pd.read_csv(\"location.csv\")\n",
    "pop_df = pd.read_csv(\"population.csv\")\n",
    "sat_df = pd.read_csv('satisfaction.csv')\n",
    "srv_df = pd.read_csv('services.csv')\n",
    "status_df = pd.read_csv('status.csv') # Train Target\n",
    "test_id_df = pd.read_csv('Test_IDs.csv') # Train Index\n",
    "train_id_df = pd.read_csv('Train_IDs.csv')\n",
    "\n",
    "dem_df = dem_df.drop(columns=[\"Count\"], axis=1)\n",
    "dem_df[\"Under 30\"] = (dem_df[\"Age\"] < 30)\n",
    "\n",
    "loc_df = loc_df.drop(columns=[\"Count\"], axis=1)\n",
    "loc_df = loc_df.drop(columns=[\"Country\"], axis=1) # We only have \"United States\" data, thus meaningless\n",
    "loc_df = loc_df.drop(columns=[\"State\"], axis=1) # We only have \"California\" data, thus meaningless\n",
    "loc_df = loc_df.drop(columns=[\"Lat Long\"], axis=1) # We only have \"California\" data, thus meaningless\n",
    "loc_df = loc_df.drop(columns=[\"City\"], axis=1) # We only have \"California\" data, thus meaningless\n",
    "\n",
    "srv_df = srv_df.drop(columns=[\"Count\"], axis=1)\n",
    "srv_df = srv_df.drop(columns=[\"Quarter\"], axis=1) # We only have \"Q3\" data, thus meaningless\n",
    "\n",
    "df_list = [dem_df, loc_df, pop_df, sat_df, srv_df, status_df]"
   ]
  },
  {
   "cell_type": "code",
   "execution_count": 4,
   "metadata": {},
   "outputs": [],
   "source": [
    "def outer_merge(left, right):\n",
    "        return left.merge(right, on='Customer ID', how='outer')\n",
    "\n",
    "def inner_merge(left, right):\n",
    "        return left.merge(right, on='Customer ID', how='inner')\n",
    "\n",
    "merge_df = outer_merge(dem_df, loc_df)\n",
    "merge_df = outer_merge(merge_df, sat_df)\n",
    "merge_df = outer_merge(merge_df, srv_df)"
   ]
  },
  {
   "cell_type": "code",
   "execution_count": 5,
   "metadata": {},
   "outputs": [],
   "source": [
    "train_df = inner_merge(merge_df, train_id_df)\n",
    "# train_df = train_df.dropna(axis=0, thresh=30)\n",
    "train_df = train_df.dropna(axis=0, thresh=20)\n",
    "# train_df = train_df.dropna(axis=0, thresh=35)\n",
    "\n",
    "test_df = inner_merge(merge_df, test_id_df)\n",
    "test_df = test_df[train_df.columns]\n",
    "\n",
    "train_df = inner_merge(train_df, status_df)"
   ]
  },
  {
   "cell_type": "code",
   "execution_count": 6,
   "metadata": {},
   "outputs": [],
   "source": [
    "category_feature_selection = [\n",
    "        # demographics\n",
    "        \"Gender\", \"Under 30\", \"Senior Citizen\", \"Married\", \"Dependents\", # Y/N\n",
    "        # location\n",
    "        # \"City\",\n",
    "        # population\n",
    "        # None\n",
    "        # satisfaction\n",
    "        \"Satisfaction Score\", # 1 ~ 5\n",
    "        # services\n",
    "        \"Referred a Friend\", # Y/N\n",
    "        \"Offer\", # None, Offer A ~ E\n",
    "        \"Phone Service\", \"Multiple Lines\", \"Internet Service\", # Y/N\n",
    "        \"Internet Type\", # No, DSL, Fiber Optic, Cable\n",
    "        \"Online Security\", \"Online Backup\", \"Device Protection Plan\", \"Premium Tech Support\", # Y/N\n",
    "        \"Streaming TV\", \"Streaming Movies\", \"Streaming Music\", \"Unlimited Data\", # Y/N\n",
    "        \"Contract\", # Month-to-Month, One Year, Two Year\n",
    "        \"Paperless Billing\", # Y/N\n",
    "        \"Payment Method\", # Bank Withdrawal, Credit Card, Mailed Check\n",
    "]\n",
    "\n",
    "category_feature = []\n",
    "numeric_feature = []\n",
    "for col in train_df.columns:\n",
    "        if col == \"Customer ID\" or col == \"Churn Category\":\n",
    "                continue\n",
    "\n",
    "        if col not in category_feature_selection:\n",
    "                numeric_feature.append(col)\n",
    "        else:\n",
    "                category_feature.append(col)"
   ]
  },
  {
   "cell_type": "code",
   "execution_count": 7,
   "metadata": {},
   "outputs": [],
   "source": [
    "def preprocessing(train_df):\n",
    "        cat_df = train_df[category_feature]\n",
    "        imp_fre = sk_imp.SimpleImputer(missing_values=np.nan, strategy='most_frequent')\n",
    "        impute_cat_df = pd.DataFrame(imp_fre.fit_transform(cat_df), columns=cat_df.columns)\n",
    "        oh_impute_cat_df = pd.get_dummies(impute_cat_df)\n",
    "\n",
    "        num_df = train_df[numeric_feature]\n",
    "        imp_med = sk_imp.SimpleImputer(missing_values=np.nan, strategy='mean')\n",
    "        impute_num_df = pd.DataFrame(imp_med.fit_transform(num_df), columns=num_df.columns)\n",
    "\n",
    "        impute_train_df = pd.concat([oh_impute_cat_df, impute_num_df], axis=1)\n",
    "\n",
    "        return impute_train_df # features only"
   ]
  },
  {
   "cell_type": "code",
   "execution_count": 8,
   "metadata": {},
   "outputs": [],
   "source": [
    "x_train = preprocessing(train_df)\n",
    "\n",
    "y_train = train_df[\"Churn Category\"].map({\n",
    "        \"No Churn\":\t        0,\n",
    "        \"Competitor\":\t        1,\n",
    "        \"Dissatisfaction\":\t2,\n",
    "        \"Attitude\":\t        3,\n",
    "        \"Price\":\t        4,\n",
    "        \"Other\":\t        5,\n",
    "})\n",
    "\n",
    "x_test = preprocessing(test_df)"
   ]
  },
  {
   "cell_type": "code",
   "execution_count": 9,
   "metadata": {},
   "outputs": [],
   "source": [
    "from sklearn.metrics import f1_score\n",
    "def f1_eval(y_pred, dtrain):\n",
    "    y_true = dtrain.get_label()\n",
    "    err = 1 - f1_score(y_true, np.round(y_pred))\n",
    "    return 'f1_err', err"
   ]
  },
  {
   "cell_type": "code",
   "execution_count": 10,
   "metadata": {},
   "outputs": [
    {
     "data": {
      "text/plain": [
       "XGBClassifier(base_score=0.5, booster='gbtree', colsample_bylevel=1,\n",
       "              colsample_bynode=1, colsample_bytree=1, enable_categorical=False,\n",
       "              eval_metric='auc', gamma=0, gpu_id=-1, importance_type=None,\n",
       "              interaction_constraints='', learning_rate=0.300000012,\n",
       "              max_delta_step=0, max_depth=6, min_child_weight=1, missing=nan,\n",
       "              monotone_constraints='()', n_estimators=200, n_jobs=12,\n",
       "              num_class=6, num_parallel_tree=1, objective='multi:softprob',\n",
       "              predictor='auto', random_state=0, reg_alpha=0, reg_lambda=1,\n",
       "              scale_pos_weight=None, subsample=1, tree_method='exact',\n",
       "              use_label_encoder=False, ...)"
      ]
     },
     "execution_count": 10,
     "metadata": {},
     "output_type": "execute_result"
    }
   ],
   "source": [
    "# x_train, x_test, y_train, y_test = sk_ms.train_test_split(x_train, y_train, test_size = 0.33)\n",
    "xgboost_model = xb.XGBClassifier(use_label_encoder=False, n_estimators=200, eval_metric='auc', objective=\"multi:softprob\", num_class=6)#, booster=\"gblinear\")\n",
    "xgboost_model.fit(x_train, y_train) # , eval_metric=f1_eval)"
   ]
  },
  {
   "cell_type": "code",
   "execution_count": 11,
   "metadata": {},
   "outputs": [
    {
     "name": "stdout",
     "output_type": "stream",
     "text": [
      "訓練集:  1.0\n"
     ]
    }
   ],
   "source": [
    "predicted = xgboost_model.predict(x_test)\n",
    "print('訓練集: ',xgboost_model.score(x_train,y_train))"
   ]
  },
  {
   "cell_type": "code",
   "execution_count": 12,
   "metadata": {},
   "outputs": [
    {
     "data": {
      "text/html": [
       "<div>\n",
       "<style scoped>\n",
       "    .dataframe tbody tr th:only-of-type {\n",
       "        vertical-align: middle;\n",
       "    }\n",
       "\n",
       "    .dataframe tbody tr th {\n",
       "        vertical-align: top;\n",
       "    }\n",
       "\n",
       "    .dataframe thead th {\n",
       "        text-align: right;\n",
       "    }\n",
       "</style>\n",
       "<table border=\"1\" class=\"dataframe\">\n",
       "  <thead>\n",
       "    <tr style=\"text-align: right;\">\n",
       "      <th></th>\n",
       "      <th>Customer ID</th>\n",
       "      <th>Churn Category</th>\n",
       "    </tr>\n",
       "  </thead>\n",
       "  <tbody>\n",
       "    <tr>\n",
       "      <th>0</th>\n",
       "      <td>5066-GFJMM</td>\n",
       "      <td>3</td>\n",
       "    </tr>\n",
       "    <tr>\n",
       "      <th>1</th>\n",
       "      <td>1730-VFMWO</td>\n",
       "      <td>1</td>\n",
       "    </tr>\n",
       "    <tr>\n",
       "      <th>2</th>\n",
       "      <td>7037-MTYVW</td>\n",
       "      <td>0</td>\n",
       "    </tr>\n",
       "    <tr>\n",
       "      <th>3</th>\n",
       "      <td>4981-FLTMF</td>\n",
       "      <td>1</td>\n",
       "    </tr>\n",
       "    <tr>\n",
       "      <th>4</th>\n",
       "      <td>8443-WVPSS</td>\n",
       "      <td>1</td>\n",
       "    </tr>\n",
       "    <tr>\n",
       "      <th>...</th>\n",
       "      <td>...</td>\n",
       "      <td>...</td>\n",
       "    </tr>\n",
       "    <tr>\n",
       "      <th>1404</th>\n",
       "      <td>9919-YLNNG</td>\n",
       "      <td>0</td>\n",
       "    </tr>\n",
       "    <tr>\n",
       "      <th>1405</th>\n",
       "      <td>8049-WJCLQ</td>\n",
       "      <td>0</td>\n",
       "    </tr>\n",
       "    <tr>\n",
       "      <th>1406</th>\n",
       "      <td>7016-NVRIC</td>\n",
       "      <td>0</td>\n",
       "    </tr>\n",
       "    <tr>\n",
       "      <th>1407</th>\n",
       "      <td>4976-LNFVV</td>\n",
       "      <td>2</td>\n",
       "    </tr>\n",
       "    <tr>\n",
       "      <th>1408</th>\n",
       "      <td>9313-CDOGY</td>\n",
       "      <td>0</td>\n",
       "    </tr>\n",
       "  </tbody>\n",
       "</table>\n",
       "<p>1409 rows × 2 columns</p>\n",
       "</div>"
      ],
      "text/plain": [
       "     Customer ID  Churn Category\n",
       "0     5066-GFJMM               3\n",
       "1     1730-VFMWO               1\n",
       "2     7037-MTYVW               0\n",
       "3     4981-FLTMF               1\n",
       "4     8443-WVPSS               1\n",
       "...          ...             ...\n",
       "1404  9919-YLNNG               0\n",
       "1405  8049-WJCLQ               0\n",
       "1406  7016-NVRIC               0\n",
       "1407  4976-LNFVV               2\n",
       "1408  9313-CDOGY               0\n",
       "\n",
       "[1409 rows x 2 columns]"
      ]
     },
     "execution_count": 12,
     "metadata": {},
     "output_type": "execute_result"
    }
   ],
   "source": [
    "predicted_df = pd.DataFrame(predicted, columns=[\"Churn Category\"])\n",
    "out_df = pd.concat([test_df[\"Customer ID\"], predicted_df], axis=1)\n",
    "out_df.to_csv(\"out.csv\", index=False)\n",
    "out_df"
   ]
  },
  {
   "cell_type": "code",
   "execution_count": 13,
   "metadata": {},
   "outputs": [
    {
     "name": "stderr",
     "output_type": "stream",
     "text": [
      "[Parallel(n_jobs=1)]: Using backend SequentialBackend with 1 concurrent workers.\n"
     ]
    },
    {
     "name": "stdout",
     "output_type": "stream",
     "text": [
      "[CV] END ................................ score: (test=0.814) total time=   2.8s\n"
     ]
    },
    {
     "name": "stderr",
     "output_type": "stream",
     "text": [
      "[Parallel(n_jobs=1)]: Done   1 out of   1 | elapsed:    2.8s remaining:    0.0s\n"
     ]
    },
    {
     "name": "stdout",
     "output_type": "stream",
     "text": [
      "[CV] END ................................ score: (test=0.814) total time=   2.7s\n"
     ]
    },
    {
     "name": "stderr",
     "output_type": "stream",
     "text": [
      "[Parallel(n_jobs=1)]: Done   2 out of   2 | elapsed:    5.5s remaining:    0.0s\n"
     ]
    },
    {
     "name": "stdout",
     "output_type": "stream",
     "text": [
      "[CV] END ................................ score: (test=0.804) total time=   2.7s\n"
     ]
    },
    {
     "name": "stderr",
     "output_type": "stream",
     "text": [
      "[Parallel(n_jobs=1)]: Done   3 out of   3 | elapsed:    8.4s finished\n"
     ]
    }
   ],
   "source": [
    "scores = sk_ms.cross_val_score(xgboost_model, x_train, y_train, cv=3, scoring='f1_micro', verbose=3)"
   ]
  },
  {
   "cell_type": "code",
   "execution_count": 14,
   "metadata": {},
   "outputs": [
    {
     "data": {
      "text/plain": [
       "(3691, 40)"
      ]
     },
     "execution_count": 14,
     "metadata": {},
     "output_type": "execute_result"
    }
   ],
   "source": [
    "train_df.shape"
   ]
  }
 ],
 "metadata": {
  "interpreter": {
   "hash": "ca33e2469b3d59a704cd852332c869bdb2aeb0bf9af90d3549491745f1cd3639"
  },
  "kernelspec": {
   "display_name": "Python 3.9.9 64-bit (windows store)",
   "language": "python",
   "name": "python3"
  },
  "language_info": {
   "codemirror_mode": {
    "name": "ipython",
    "version": 3
   },
   "file_extension": ".py",
   "mimetype": "text/x-python",
   "name": "python",
   "nbconvert_exporter": "python",
   "pygments_lexer": "ipython3",
   "version": "3.9.1"
  },
  "orig_nbformat": 4
 },
 "nbformat": 4,
 "nbformat_minor": 2
}
